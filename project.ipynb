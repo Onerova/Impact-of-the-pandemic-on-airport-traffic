{
  "nbformat": 4,
  "nbformat_minor": 0,
  "metadata": {
    "kernelspec": {
      "language": "python",
      "display_name": "Python 3",
      "name": "python3"
    },
    "language_info": {
      "pygments_lexer": "ipython3",
      "nbconvert_exporter": "python",
      "version": "3.6.4",
      "file_extension": ".py",
      "codemirror_mode": {
        "name": "ipython",
        "version": 3
      },
      "name": "python",
      "mimetype": "text/x-python"
    },
    "colab": {
      "name": "project",
      "provenance": [],
      "collapsed_sections": [],
      "toc_visible": true
    }
  },
  "cells": [
    {
      "cell_type": "markdown",
      "metadata": {
        "id": "pUJpm_Mq5AnV"
      },
      "source": [
        "# Data review"
      ]
    },
    {
      "cell_type": "code",
      "metadata": {
        "id": "32oXsOUn4oCd"
      },
      "source": [
        "import sys\n",
        "sys.setrecursionlimit(1500)"
      ],
      "execution_count": 40,
      "outputs": []
    },
    {
      "cell_type": "code",
      "metadata": {
        "trusted": true,
        "id": "Jnj1hhWS5Anh"
      },
      "source": [
        "# Import libraries\n",
        "import numpy as np \n",
        "import pandas as pd\n",
        "import matplotlib.pyplot as plt\n",
        "import seaborn as sns\n",
        "import calendar"
      ],
      "execution_count": 41,
      "outputs": []
    },
    {
      "cell_type": "code",
      "metadata": {
        "trusted": true,
        "colab": {
          "base_uri": "https://localhost:8080/",
          "height": 383
        },
        "id": "MhPwh2b45Ani",
        "outputId": "238748ce-7e16-411c-9969-e5ae0e05ffbf"
      },
      "source": [
        "# Read data\n",
        "df = pd.read_csv('/content/covid_impact_on_airport_traffic.csv')\n",
        "df.head()"
      ],
      "execution_count": 42,
      "outputs": [
        {
          "output_type": "execute_result",
          "data": {
            "text/html": [
              "<div>\n",
              "<style scoped>\n",
              "    .dataframe tbody tr th:only-of-type {\n",
              "        vertical-align: middle;\n",
              "    }\n",
              "\n",
              "    .dataframe tbody tr th {\n",
              "        vertical-align: top;\n",
              "    }\n",
              "\n",
              "    .dataframe thead th {\n",
              "        text-align: right;\n",
              "    }\n",
              "</style>\n",
              "<table border=\"1\" class=\"dataframe\">\n",
              "  <thead>\n",
              "    <tr style=\"text-align: right;\">\n",
              "      <th></th>\n",
              "      <th>AggregationMethod</th>\n",
              "      <th>Date</th>\n",
              "      <th>Version</th>\n",
              "      <th>AirportName</th>\n",
              "      <th>PercentOfBaseline</th>\n",
              "      <th>Centroid</th>\n",
              "      <th>City</th>\n",
              "      <th>State</th>\n",
              "      <th>ISO_3166_2</th>\n",
              "      <th>Country</th>\n",
              "      <th>Geography</th>\n",
              "    </tr>\n",
              "  </thead>\n",
              "  <tbody>\n",
              "    <tr>\n",
              "      <th>0</th>\n",
              "      <td>Daily</td>\n",
              "      <td>2020-04-03</td>\n",
              "      <td>1.0</td>\n",
              "      <td>Kingsford Smith</td>\n",
              "      <td>64</td>\n",
              "      <td>POINT(151.180087713813 -33.9459774986125)</td>\n",
              "      <td>Sydney</td>\n",
              "      <td>New South Wales</td>\n",
              "      <td>AU</td>\n",
              "      <td>Australia</td>\n",
              "      <td>POLYGON((151.164354085922 -33.9301772341877, 1...</td>\n",
              "    </tr>\n",
              "    <tr>\n",
              "      <th>1</th>\n",
              "      <td>Daily</td>\n",
              "      <td>2020-04-13</td>\n",
              "      <td>1.0</td>\n",
              "      <td>Kingsford Smith</td>\n",
              "      <td>29</td>\n",
              "      <td>POINT(151.180087713813 -33.9459774986125)</td>\n",
              "      <td>Sydney</td>\n",
              "      <td>New South Wales</td>\n",
              "      <td>AU</td>\n",
              "      <td>Australia</td>\n",
              "      <td>POLYGON((151.164354085922 -33.9301772341877, 1...</td>\n",
              "    </tr>\n",
              "    <tr>\n",
              "      <th>2</th>\n",
              "      <td>Daily</td>\n",
              "      <td>2020-07-10</td>\n",
              "      <td>1.0</td>\n",
              "      <td>Kingsford Smith</td>\n",
              "      <td>54</td>\n",
              "      <td>POINT(151.180087713813 -33.9459774986125)</td>\n",
              "      <td>Sydney</td>\n",
              "      <td>New South Wales</td>\n",
              "      <td>AU</td>\n",
              "      <td>Australia</td>\n",
              "      <td>POLYGON((151.164354085922 -33.9301772341877, 1...</td>\n",
              "    </tr>\n",
              "    <tr>\n",
              "      <th>3</th>\n",
              "      <td>Daily</td>\n",
              "      <td>2020-09-02</td>\n",
              "      <td>1.0</td>\n",
              "      <td>Kingsford Smith</td>\n",
              "      <td>18</td>\n",
              "      <td>POINT(151.180087713813 -33.9459774986125)</td>\n",
              "      <td>Sydney</td>\n",
              "      <td>New South Wales</td>\n",
              "      <td>AU</td>\n",
              "      <td>Australia</td>\n",
              "      <td>POLYGON((151.164354085922 -33.9301772341877, 1...</td>\n",
              "    </tr>\n",
              "    <tr>\n",
              "      <th>4</th>\n",
              "      <td>Daily</td>\n",
              "      <td>2020-10-31</td>\n",
              "      <td>1.0</td>\n",
              "      <td>Kingsford Smith</td>\n",
              "      <td>22</td>\n",
              "      <td>POINT(151.180087713813 -33.9459774986125)</td>\n",
              "      <td>Sydney</td>\n",
              "      <td>New South Wales</td>\n",
              "      <td>AU</td>\n",
              "      <td>Australia</td>\n",
              "      <td>POLYGON((151.164354085922 -33.9301772341877, 1...</td>\n",
              "    </tr>\n",
              "  </tbody>\n",
              "</table>\n",
              "</div>"
            ],
            "text/plain": [
              "  AggregationMethod  ...                                          Geography\n",
              "0             Daily  ...  POLYGON((151.164354085922 -33.9301772341877, 1...\n",
              "1             Daily  ...  POLYGON((151.164354085922 -33.9301772341877, 1...\n",
              "2             Daily  ...  POLYGON((151.164354085922 -33.9301772341877, 1...\n",
              "3             Daily  ...  POLYGON((151.164354085922 -33.9301772341877, 1...\n",
              "4             Daily  ...  POLYGON((151.164354085922 -33.9301772341877, 1...\n",
              "\n",
              "[5 rows x 11 columns]"
            ]
          },
          "metadata": {
            "tags": []
          },
          "execution_count": 42
        }
      ]
    },
    {
      "cell_type": "markdown",
      "metadata": {
        "id": "t_asP9yf5Anj"
      },
      "source": [
        "* AggregationMethod: Aggregation period used to compute this metric\n",
        "\n",
        "* Date: Date Traffic volume measured, in format YYYY-MM-DD.\n",
        "\n",
        "* Version: Version of this dataset\n",
        "\n",
        "* AirportName: Name of airport\n",
        "\n",
        "* PercentOfBaseline: Proportion of trips on this date as compared to Avg number of trips on the same day of week in baseline period i.e 1st February 2020 - 15th March 2020\n",
        "\n",
        "* Centroid: Geography representing centroid of the Airport polygon\n",
        "\n",
        "* City: City within which the Airport is located\n",
        "\n",
        "* State: State within which the Airport is located\n",
        "\n",
        "* ISO_3166_2: ISO-3166-2 code representing Country and Subdivision\n",
        "\n",
        "* Country: Country within which the Airport is located\n",
        "\n",
        "* Geography: Polygon of the Airport that is used to compute this metric"
      ]
    },
    {
      "cell_type": "code",
      "metadata": {
        "trusted": true,
        "id": "H3hyUAq05Ank",
        "colab": {
          "base_uri": "https://localhost:8080/",
          "height": 284
        },
        "outputId": "b2e75c91-f872-4464-e59c-67d4ea6fb398"
      },
      "source": [
        "df.describe()"
      ],
      "execution_count": 43,
      "outputs": [
        {
          "output_type": "execute_result",
          "data": {
            "text/html": [
              "<div>\n",
              "<style scoped>\n",
              "    .dataframe tbody tr th:only-of-type {\n",
              "        vertical-align: middle;\n",
              "    }\n",
              "\n",
              "    .dataframe tbody tr th {\n",
              "        vertical-align: top;\n",
              "    }\n",
              "\n",
              "    .dataframe thead th {\n",
              "        text-align: right;\n",
              "    }\n",
              "</style>\n",
              "<table border=\"1\" class=\"dataframe\">\n",
              "  <thead>\n",
              "    <tr style=\"text-align: right;\">\n",
              "      <th></th>\n",
              "      <th>Version</th>\n",
              "      <th>PercentOfBaseline</th>\n",
              "    </tr>\n",
              "  </thead>\n",
              "  <tbody>\n",
              "    <tr>\n",
              "      <th>count</th>\n",
              "      <td>7247.0</td>\n",
              "      <td>7247.000000</td>\n",
              "    </tr>\n",
              "    <tr>\n",
              "      <th>mean</th>\n",
              "      <td>1.0</td>\n",
              "      <td>66.651442</td>\n",
              "    </tr>\n",
              "    <tr>\n",
              "      <th>std</th>\n",
              "      <td>0.0</td>\n",
              "      <td>22.134433</td>\n",
              "    </tr>\n",
              "    <tr>\n",
              "      <th>min</th>\n",
              "      <td>1.0</td>\n",
              "      <td>0.000000</td>\n",
              "    </tr>\n",
              "    <tr>\n",
              "      <th>25%</th>\n",
              "      <td>1.0</td>\n",
              "      <td>53.000000</td>\n",
              "    </tr>\n",
              "    <tr>\n",
              "      <th>50%</th>\n",
              "      <td>1.0</td>\n",
              "      <td>67.000000</td>\n",
              "    </tr>\n",
              "    <tr>\n",
              "      <th>75%</th>\n",
              "      <td>1.0</td>\n",
              "      <td>84.000000</td>\n",
              "    </tr>\n",
              "    <tr>\n",
              "      <th>max</th>\n",
              "      <td>1.0</td>\n",
              "      <td>100.000000</td>\n",
              "    </tr>\n",
              "  </tbody>\n",
              "</table>\n",
              "</div>"
            ],
            "text/plain": [
              "       Version  PercentOfBaseline\n",
              "count   7247.0        7247.000000\n",
              "mean       1.0          66.651442\n",
              "std        0.0          22.134433\n",
              "min        1.0           0.000000\n",
              "25%        1.0          53.000000\n",
              "50%        1.0          67.000000\n",
              "75%        1.0          84.000000\n",
              "max        1.0         100.000000"
            ]
          },
          "metadata": {
            "tags": []
          },
          "execution_count": 43
        }
      ]
    },
    {
      "cell_type": "code",
      "metadata": {
        "trusted": true,
        "id": "JXyS21sm5Ank",
        "colab": {
          "base_uri": "https://localhost:8080/"
        },
        "outputId": "63e5327f-fbf8-4e52-f45c-fd8d78c61833"
      },
      "source": [
        "# Information about dataframe\n",
        "df.info(memory_usage=\"deep\")"
      ],
      "execution_count": 44,
      "outputs": [
        {
          "output_type": "stream",
          "text": [
            "<class 'pandas.core.frame.DataFrame'>\n",
            "RangeIndex: 7247 entries, 0 to 7246\n",
            "Data columns (total 11 columns):\n",
            " #   Column             Non-Null Count  Dtype  \n",
            "---  ------             --------------  -----  \n",
            " 0   AggregationMethod  7247 non-null   object \n",
            " 1   Date               7247 non-null   object \n",
            " 2   Version            7247 non-null   float64\n",
            " 3   AirportName        7247 non-null   object \n",
            " 4   PercentOfBaseline  7247 non-null   int64  \n",
            " 5   Centroid           7247 non-null   object \n",
            " 6   City               7247 non-null   object \n",
            " 7   State              7247 non-null   object \n",
            " 8   ISO_3166_2         7247 non-null   object \n",
            " 9   Country            7247 non-null   object \n",
            " 10  Geography          7247 non-null   object \n",
            "dtypes: float64(1), int64(1), object(9)\n",
            "memory usage: 12.3 MB\n"
          ],
          "name": "stdout"
        }
      ]
    },
    {
      "cell_type": "code",
      "metadata": {
        "trusted": true,
        "id": "wwGCaQBx5Anl",
        "colab": {
          "base_uri": "https://localhost:8080/"
        },
        "outputId": "5afbc18d-2532-4256-88a5-4ac558548a5c"
      },
      "source": [
        "# All columns\n",
        "df.columns"
      ],
      "execution_count": 45,
      "outputs": [
        {
          "output_type": "execute_result",
          "data": {
            "text/plain": [
              "Index(['AggregationMethod', 'Date', 'Version', 'AirportName',\n",
              "       'PercentOfBaseline', 'Centroid', 'City', 'State', 'ISO_3166_2',\n",
              "       'Country', 'Geography'],\n",
              "      dtype='object')"
            ]
          },
          "metadata": {
            "tags": []
          },
          "execution_count": 45
        }
      ]
    },
    {
      "cell_type": "markdown",
      "metadata": {
        "id": "0b7C_ad25Anl"
      },
      "source": [
        "# Data preprocessing"
      ]
    },
    {
      "cell_type": "code",
      "metadata": {
        "trusted": true,
        "id": "D8egR3cW5Anm"
      },
      "source": [
        "# Rename all columns into lower case\n",
        "df.rename(columns=lambda x: x.strip().lower(),inplace=True)"
      ],
      "execution_count": 46,
      "outputs": []
    },
    {
      "cell_type": "code",
      "metadata": {
        "trusted": true,
        "id": "GSy979ot5Anm"
      },
      "source": [
        "# Changing the date type from str to datetime\n",
        "df['date'] = pd.to_datetime(df['date'])"
      ],
      "execution_count": 47,
      "outputs": []
    },
    {
      "cell_type": "code",
      "metadata": {
        "trusted": true,
        "id": "pK_dZDrc5Ann"
      },
      "source": [
        "# Add \"weekday\" column and parsing data to it\n",
        "days={0:'Monday',1:'Tuesday',2:'Wednesday',3:'Thursday',4:\"Friday\",5:'Saturday',6:'Sunday'}\n",
        "df['weekday']=df['date'].apply(lambda x:days.get(x.weekday()))\n",
        "\n",
        "\n",
        "df['month'] = pd.DatetimeIndex(df['date']).month\n",
        "df['month'] = df['month'].apply(lambda x: calendar.month_abbr[x])"
      ],
      "execution_count": 48,
      "outputs": []
    },
    {
      "cell_type": "code",
      "metadata": {
        "trusted": true,
        "id": "JQJdWJEV5Ann",
        "colab": {
          "base_uri": "https://localhost:8080/"
        },
        "outputId": "f8dabfa5-e568-4e6e-f157-5c3fbe868454"
      },
      "source": [
        "df.isna().sum()"
      ],
      "execution_count": 49,
      "outputs": [
        {
          "output_type": "execute_result",
          "data": {
            "text/plain": [
              "aggregationmethod    0\n",
              "date                 0\n",
              "version              0\n",
              "airportname          0\n",
              "percentofbaseline    0\n",
              "centroid             0\n",
              "city                 0\n",
              "state                0\n",
              "iso_3166_2           0\n",
              "country              0\n",
              "geography            0\n",
              "weekday              0\n",
              "month                0\n",
              "dtype: int64"
            ]
          },
          "metadata": {
            "tags": []
          },
          "execution_count": 49
        }
      ]
    },
    {
      "cell_type": "markdown",
      "metadata": {
        "id": "0uHOfyJs5Ano"
      },
      "source": [
        "**We can note that there is no missing data, so there is no need to restore**"
      ]
    },
    {
      "cell_type": "code",
      "metadata": {
        "trusted": true,
        "id": "w3V5v_595Ano",
        "colab": {
          "base_uri": "https://localhost:8080/",
          "height": 383
        },
        "outputId": "81fbe6ec-f071-41be-8778-6904ba92549a"
      },
      "source": [
        "df.head()"
      ],
      "execution_count": 50,
      "outputs": [
        {
          "output_type": "execute_result",
          "data": {
            "text/html": [
              "<div>\n",
              "<style scoped>\n",
              "    .dataframe tbody tr th:only-of-type {\n",
              "        vertical-align: middle;\n",
              "    }\n",
              "\n",
              "    .dataframe tbody tr th {\n",
              "        vertical-align: top;\n",
              "    }\n",
              "\n",
              "    .dataframe thead th {\n",
              "        text-align: right;\n",
              "    }\n",
              "</style>\n",
              "<table border=\"1\" class=\"dataframe\">\n",
              "  <thead>\n",
              "    <tr style=\"text-align: right;\">\n",
              "      <th></th>\n",
              "      <th>aggregationmethod</th>\n",
              "      <th>date</th>\n",
              "      <th>version</th>\n",
              "      <th>airportname</th>\n",
              "      <th>percentofbaseline</th>\n",
              "      <th>centroid</th>\n",
              "      <th>city</th>\n",
              "      <th>state</th>\n",
              "      <th>iso_3166_2</th>\n",
              "      <th>country</th>\n",
              "      <th>geography</th>\n",
              "      <th>weekday</th>\n",
              "      <th>month</th>\n",
              "    </tr>\n",
              "  </thead>\n",
              "  <tbody>\n",
              "    <tr>\n",
              "      <th>0</th>\n",
              "      <td>Daily</td>\n",
              "      <td>2020-04-03</td>\n",
              "      <td>1.0</td>\n",
              "      <td>Kingsford Smith</td>\n",
              "      <td>64</td>\n",
              "      <td>POINT(151.180087713813 -33.9459774986125)</td>\n",
              "      <td>Sydney</td>\n",
              "      <td>New South Wales</td>\n",
              "      <td>AU</td>\n",
              "      <td>Australia</td>\n",
              "      <td>POLYGON((151.164354085922 -33.9301772341877, 1...</td>\n",
              "      <td>Friday</td>\n",
              "      <td>Apr</td>\n",
              "    </tr>\n",
              "    <tr>\n",
              "      <th>1</th>\n",
              "      <td>Daily</td>\n",
              "      <td>2020-04-13</td>\n",
              "      <td>1.0</td>\n",
              "      <td>Kingsford Smith</td>\n",
              "      <td>29</td>\n",
              "      <td>POINT(151.180087713813 -33.9459774986125)</td>\n",
              "      <td>Sydney</td>\n",
              "      <td>New South Wales</td>\n",
              "      <td>AU</td>\n",
              "      <td>Australia</td>\n",
              "      <td>POLYGON((151.164354085922 -33.9301772341877, 1...</td>\n",
              "      <td>Monday</td>\n",
              "      <td>Apr</td>\n",
              "    </tr>\n",
              "    <tr>\n",
              "      <th>2</th>\n",
              "      <td>Daily</td>\n",
              "      <td>2020-07-10</td>\n",
              "      <td>1.0</td>\n",
              "      <td>Kingsford Smith</td>\n",
              "      <td>54</td>\n",
              "      <td>POINT(151.180087713813 -33.9459774986125)</td>\n",
              "      <td>Sydney</td>\n",
              "      <td>New South Wales</td>\n",
              "      <td>AU</td>\n",
              "      <td>Australia</td>\n",
              "      <td>POLYGON((151.164354085922 -33.9301772341877, 1...</td>\n",
              "      <td>Friday</td>\n",
              "      <td>Jul</td>\n",
              "    </tr>\n",
              "    <tr>\n",
              "      <th>3</th>\n",
              "      <td>Daily</td>\n",
              "      <td>2020-09-02</td>\n",
              "      <td>1.0</td>\n",
              "      <td>Kingsford Smith</td>\n",
              "      <td>18</td>\n",
              "      <td>POINT(151.180087713813 -33.9459774986125)</td>\n",
              "      <td>Sydney</td>\n",
              "      <td>New South Wales</td>\n",
              "      <td>AU</td>\n",
              "      <td>Australia</td>\n",
              "      <td>POLYGON((151.164354085922 -33.9301772341877, 1...</td>\n",
              "      <td>Wednesday</td>\n",
              "      <td>Sep</td>\n",
              "    </tr>\n",
              "    <tr>\n",
              "      <th>4</th>\n",
              "      <td>Daily</td>\n",
              "      <td>2020-10-31</td>\n",
              "      <td>1.0</td>\n",
              "      <td>Kingsford Smith</td>\n",
              "      <td>22</td>\n",
              "      <td>POINT(151.180087713813 -33.9459774986125)</td>\n",
              "      <td>Sydney</td>\n",
              "      <td>New South Wales</td>\n",
              "      <td>AU</td>\n",
              "      <td>Australia</td>\n",
              "      <td>POLYGON((151.164354085922 -33.9301772341877, 1...</td>\n",
              "      <td>Saturday</td>\n",
              "      <td>Oct</td>\n",
              "    </tr>\n",
              "  </tbody>\n",
              "</table>\n",
              "</div>"
            ],
            "text/plain": [
              "  aggregationmethod       date  ...    weekday month\n",
              "0             Daily 2020-04-03  ...     Friday   Apr\n",
              "1             Daily 2020-04-13  ...     Monday   Apr\n",
              "2             Daily 2020-07-10  ...     Friday   Jul\n",
              "3             Daily 2020-09-02  ...  Wednesday   Sep\n",
              "4             Daily 2020-10-31  ...   Saturday   Oct\n",
              "\n",
              "[5 rows x 13 columns]"
            ]
          },
          "metadata": {
            "tags": []
          },
          "execution_count": 50
        }
      ]
    },
    {
      "cell_type": "code",
      "metadata": {
        "trusted": true,
        "id": "Mq2jO1JK5Anp",
        "colab": {
          "base_uri": "https://localhost:8080/"
        },
        "outputId": "42282e56-dc8c-4298-bab7-0b40a9d08aa3"
      },
      "source": [
        "df.info(memory_usage=\"deep\")"
      ],
      "execution_count": 51,
      "outputs": [
        {
          "output_type": "stream",
          "text": [
            "<class 'pandas.core.frame.DataFrame'>\n",
            "RangeIndex: 7247 entries, 0 to 7246\n",
            "Data columns (total 13 columns):\n",
            " #   Column             Non-Null Count  Dtype         \n",
            "---  ------             --------------  -----         \n",
            " 0   aggregationmethod  7247 non-null   object        \n",
            " 1   date               7247 non-null   datetime64[ns]\n",
            " 2   version            7247 non-null   float64       \n",
            " 3   airportname        7247 non-null   object        \n",
            " 4   percentofbaseline  7247 non-null   int64         \n",
            " 5   centroid           7247 non-null   object        \n",
            " 6   city               7247 non-null   object        \n",
            " 7   state              7247 non-null   object        \n",
            " 8   iso_3166_2         7247 non-null   object        \n",
            " 9   country            7247 non-null   object        \n",
            " 10  geography          7247 non-null   object        \n",
            " 11  weekday            7247 non-null   object        \n",
            " 12  month              7247 non-null   object        \n",
            "dtypes: datetime64[ns](1), float64(1), int64(1), object(10)\n",
            "memory usage: 13.0 MB\n"
          ],
          "name": "stdout"
        }
      ]
    },
    {
      "cell_type": "markdown",
      "metadata": {
        "id": "BPdRrIRW5Anp"
      },
      "source": [
        "# Data visualization"
      ]
    },
    {
      "cell_type": "code",
      "metadata": {
        "trusted": true,
        "id": "3s_qi-cw5Anp",
        "colab": {
          "base_uri": "https://localhost:8080/",
          "height": 444
        },
        "outputId": "102f474d-45a3-47da-e4ab-36602497bc7c"
      },
      "source": [
        "df_Country_count = pd.DataFrame(df[\"country\"].value_counts())\n",
        "\n",
        "g = df_Country_count.plot.pie(y='country', autopct='%1.1f%%', figsize=(7, 7))\n",
        "g.set_title(\"Records for each country\")"
      ],
      "execution_count": 52,
      "outputs": [
        {
          "output_type": "execute_result",
          "data": {
            "text/plain": [
              "Text(0.5, 1.0, 'Records for each country')"
            ]
          },
          "metadata": {
            "tags": []
          },
          "execution_count": 52
        },
        {
          "output_type": "display_data",
          "data": {
            "image/png": "[encoded data removed]",
            "text/plain": [
              "<Figure size 504x504 with 1 Axes>"
            ]
          },
          "metadata": {
            "tags": []
          }
        }
      ]
    },
    {
      "cell_type": "markdown",
      "metadata": {
        "id": "RLY9BRRU5Anq"
      },
      "source": [
        "**We can note that of all the flights 61% and 31% belong to America and Canada**"
      ]
    },
    {
      "cell_type": "code",
      "metadata": {
        "trusted": true,
        "id": "u761fyzb5Anq",
        "colab": {
          "base_uri": "https://localhost:8080/",
          "height": 444
        },
        "outputId": "64336869-76c5-4a3c-a09a-35d017a543cb"
      },
      "source": [
        "df_weekday_count = pd.DataFrame(df[\"weekday\"].value_counts())\n",
        "g = df_weekday_count.plot.pie(y='weekday', autopct='%1.1f%%', figsize=(7, 7))\n",
        "g.set_title(\"records for each weekday\")"
      ],
      "execution_count": 53,
      "outputs": [
        {
          "output_type": "execute_result",
          "data": {
            "text/plain": [
              "Text(0.5, 1.0, 'records for each weekday')"
            ]
          },
          "metadata": {
            "tags": []
          },
          "execution_count": 53
        },
        {
          "output_type": "display_data",
          "data": {
            "image/png": "[encoded data removed]",
            "text/plain": [
              "<Figure size 504x504 with 1 Axes>"
            ]
          },
          "metadata": {
            "tags": []
          }
        }
      ]
    },
    {
      "cell_type": "markdown",
      "metadata": {
        "id": "G7wniG8R5Anq"
      },
      "source": [
        "**We can notice that on weekends people fly less and consequently there are few flights**"
      ]
    },
    {
      "cell_type": "code",
      "metadata": {
        "trusted": true,
        "id": "zRnWgCON5Anr",
        "colab": {
          "base_uri": "https://localhost:8080/",
          "height": 557
        },
        "outputId": "6a4039ca-6daa-4efe-86da-2988d4b79dee"
      },
      "source": [
        "plt.figure(figsize=(10, 5))\n",
        "g = sns.countplot(data=df, x=\"airportname\",\n",
        "              order = df['airportname'].value_counts().index)\n",
        "g.set_xticklabels(g.get_xticklabels(), rotation=90)\n",
        "g.set_title(\"records for each airport\")"
      ],
      "execution_count": 54,
      "outputs": [
        {
          "output_type": "execute_result",
          "data": {
            "text/plain": [
              "Text(0.5, 1.0, 'records for each airport')"
            ]
          },
          "metadata": {
            "tags": []
          },
          "execution_count": 54
        },
        {
          "output_type": "display_data",
          "data": {
            "image/png": "[encoded data removed]",
            "text/plain": [
              "<Figure size 720x360 with 1 Axes>"
            ]
          },
          "metadata": {
            "tags": [],
            "needs_background": "light"
          }
        }
      ]
    },
    {
      "cell_type": "code",
      "metadata": {
        "trusted": true,
        "id": "I2ZF8kfs5Anr",
        "colab": {
          "base_uri": "https://localhost:8080/",
          "height": 241
        },
        "outputId": "5e2fc11a-82d3-4d39-843c-780cb7322a29"
      },
      "source": [
        "mean_percentofbaseline = df.groupby(['month'])['percentofbaseline'].mean()\n",
        "month = ('Apr', 'Aug', 'Dec', 'Jul', 'Jun', 'Mar', 'May', 'Nov', 'Oct', 'Sep')\n",
        "\n",
        "plt.figure(figsize=(9, 3))\n",
        "plt.plot(month, mean_percentofbaseline)\n",
        "plt.title('Mean Percant of Baseline per month')\n",
        "plt.xlabel('Month')\n",
        "plt.ylabel('Mean Percant of Baseline')\n",
        "plt.show()"
      ],
      "execution_count": 55,
      "outputs": [
        {
          "output_type": "display_data",
          "data": {
            "image/png": "[encoded data removed]",
            "text/plain": [
              "<Figure size 648x216 with 1 Axes>"
            ]
          },
          "metadata": {
            "tags": [],
            "needs_background": "light"
          }
        }
      ]
    },
    {
      "cell_type": "markdown",
      "metadata": {
        "id": "k0vGPNTt5Ans"
      },
      "source": [
        "**Here we can see how the Percant of Baseline dropped during the first coronavirus outbreak because a quarantine was declared. And the second outbreak worldwide occurred closer to May, and just in May we are seeing a decrease in air travel**"
      ]
    },
    {
      "cell_type": "code",
      "metadata": {
        "trusted": true,
        "id": "gGIk4BEo5Ans",
        "colab": {
          "base_uri": "https://localhost:8080/",
          "height": 128
        },
        "outputId": "7a761630-0287-4b01-831a-06fe399707dd"
      },
      "source": [
        "import folium\n",
        "from folium.plugins import MarkerCluster\n",
        "\n",
        "df['long'] = df['centroid'].apply(lambda x: x[6:-1].split(' ')[0])\n",
        "df['lat'] = df['centroid'].apply(lambda x: x[6:-1].split(' ')[1])\n",
        "df.drop(columns=['centroid'], axis=1)\n",
        "\n",
        "world_map = folium.Map(tiles=\"cartodbpositron\")\n",
        "marker_cluster = MarkerCluster().add_to(world_map)\n",
        "\n",
        "for i in range(len(df)):\n",
        "    folium.CircleMarker (location=[df.iloc[i]['lat'], df.iloc[i]['long']], radius=5,\n",
        "                        fill=True.add_to(marker_cluster)\n",
        "                        \n",
        "world_map"
      ],
      "execution_count": 79,
      "outputs": [
        {
          "output_type": "error",
          "ename": "SyntaxError",
          "evalue": "ignored",
          "traceback": [
            "\u001b[0;36m  File \u001b[0;32m\"<ipython-input-79-bac3c0e0485c>\"\u001b[0;36m, line \u001b[0;32m15\u001b[0m\n\u001b[0;31m    world_map\u001b[0m\n\u001b[0m            ^\u001b[0m\n\u001b[0;31mSyntaxError\u001b[0m\u001b[0;31m:\u001b[0m invalid syntax\n"
          ]
        }
      ]
    },
    {
      "cell_type": "code",
      "metadata": {
        "id": "CwmmHzed7LxO"
      },
      "source": [
        "_"
      ],
      "execution_count": null,
      "outputs": []
    }
  ]
}